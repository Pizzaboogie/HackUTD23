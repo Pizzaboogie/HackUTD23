{
 "cells": [
  {
   "cell_type": "code",
   "execution_count": 4,
   "metadata": {},
   "outputs": [],
   "source": [
    "import pickle\n",
    "import numpy as np\n",
    "from sklearn.linear_model import LinearRegression"
   ]
  },
  {
   "cell_type": "code",
   "execution_count": 14,
   "metadata": {},
   "outputs": [
    {
     "name": "stdout",
     "output_type": "stream",
     "text": [
      "[0.26041943]\n"
     ]
    },
    {
     "name": "stderr",
     "output_type": "stream",
     "text": [
      "c:\\Users\\ayush\\AppData\\Local\\Programs\\Python\\Python311\\Lib\\site-packages\\sklearn\\base.py:465: UserWarning: X does not have valid feature names, but LinearRegression was fitted with feature names\n",
      "  warnings.warn(\n"
     ]
    }
   ],
   "source": [
    "def predict(val):\n",
    "    # val = [income, creditCard, carPayment, studentLoans, appraisedValue, downPayment, loanAmount, mortagage, creditScore]\n",
    "    # debt\n",
    "    income = val[0]\n",
    "    debt = val[1] + val[2] + val[3] + val[7]\n",
    "    CREDIT = val[-1]\n",
    "    LTV = val[6]/val[4]\n",
    "    DTI = debt/income\n",
    "    FEDTI = val[7]/income\n",
    "\n",
    "    processedVal = [[CREDIT,LTV, DTI, FEDTI]]\n",
    "    file = open(\"model.sav\",\"rb\")\n",
    "    model = pickle.load(file)\n",
    "    return model.predict(processedVal)"
   ]
  }
 ],
 "metadata": {
  "kernelspec": {
   "display_name": "Python 3",
   "language": "python",
   "name": "python3"
  },
  "language_info": {
   "codemirror_mode": {
    "name": "ipython",
    "version": 3
   },
   "file_extension": ".py",
   "mimetype": "text/x-python",
   "name": "python",
   "nbconvert_exporter": "python",
   "pygments_lexer": "ipython3",
   "version": "3.11.5"
  }
 },
 "nbformat": 4,
 "nbformat_minor": 2
}
