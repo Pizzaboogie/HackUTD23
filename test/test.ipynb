{
 "cells": [
  {
   "cell_type": "code",
   "execution_count": 4,
   "metadata": {},
   "outputs": [],
   "source": [
    "import pickle\n",
    "import numpy as np\n",
    "from sklearn.linear_model import LinearRegression"
   ]
  },
  {
   "cell_type": "code",
   "execution_count": 15,
   "metadata": {},
   "outputs": [
    {
     "name": "stdout",
     "output_type": "stream",
     "text": [
      "[0.2288235294117647, 0.15, 0.03332581372864969, 0.06365130518852723]\n"
     ]
    }
   ],
   "source": [
    "def calcScores(val):\n",
    "    income = val[0]\n",
    "    debt = val[1] + val[2] + val[3] + val[7]\n",
    "    CREDIT = val[-1]\n",
    "    LTV = val[6]/val[4]\n",
    "    DTI = debt/income\n",
    "    FEDTI = val[7]/income\n",
    "    point = 0\n",
    "\n",
    "    if(CREDIT>=640):\n",
    "        credit_point = (CREDIT*0.25)/850 #850 is the max credit score\n",
    "\n",
    "\n",
    "    if(0.80>LTV):\n",
    "        ltv_point = 0.25\n",
    "\n",
    "    if(0.80<=LTV<0.85):\n",
    "        ltv_point = 0.2\n",
    "\n",
    "    \n",
    "    if(0.85<=LTV<0.90):\n",
    "        ltv_point = 0.15\n",
    "\n",
    "    if(0.90<=LTV<0.95):\n",
    "        ltv_point = 0.1\n",
    "\n",
    "    \n",
    "    if(LTV>=0.95):\n",
    "        ltv_point = (1.0-LTV)*0.1\n",
    "\n",
    "    \n",
    "    if(0 <=DTI <= 0.43):\n",
    "        dti_point = ((0.43-DTI)/0.43)*0.1+ 0.15\n",
    "\n",
    "    else:\n",
    "        dti_point= 0.1 * ((1-DTI))\n",
    "\n",
    "    if(0<=FEDTI<=0.28):\n",
    "        fedti_points = (0.15 + ((0.28-FEDTI)/0.28)*0.1)\n",
    "    else:\n",
    "        fedti_points = 0.1 * ((1-FEDTI))\n",
    "    \n",
    "\n",
    "    print ([credit_point,ltv_point,dti_point,fedti_points])"
   ]
  },
  {
   "cell_type": "code",
   "execution_count": 16,
   "metadata": {},
   "outputs": [],
   "source": [
    "def predict(val):\n",
    "    # val = [income, creditCard, carPayment, studentLoans, appraisedValue, downPayment, loanAmount, mortagage, creditScore]\n",
    "    # debt\n",
    "    income = val[0]\n",
    "    debt = val[1] + val[2] + val[3] + val[7]\n",
    "    CREDIT = val[-1]\n",
    "    LTV = val[6]/val[4]\n",
    "    DTI = debt/income\n",
    "    FEDTI = val[7]/income\n",
    "\n",
    "    processedVal = [[CREDIT,LTV, DTI, FEDTI]]\n",
    "    file = open(\"model.sav\",\"rb\")\n",
    "    model = pickle.load(file)\n",
    "    return model.predict(processedVal)"
   ]
  }
 ],
 "metadata": {
  "kernelspec": {
   "display_name": "Python 3",
   "language": "python",
   "name": "python3"
  },
  "language_info": {
   "codemirror_mode": {
    "name": "ipython",
    "version": 3
   },
   "file_extension": ".py",
   "mimetype": "text/x-python",
   "name": "python",
   "nbconvert_exporter": "python",
   "pygments_lexer": "ipython3",
   "version": "3.11.5"
  }
 },
 "nbformat": 4,
 "nbformat_minor": 2
}
